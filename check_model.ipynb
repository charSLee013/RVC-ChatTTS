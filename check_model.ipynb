{
 "cells": [
  {
   "cell_type": "code",
   "execution_count": 1,
   "metadata": {},
   "outputs": [
    {
     "name": "stderr",
     "output_type": "stream",
     "text": [
      "/Users/charslee/miniconda3/envs/torch/lib/python3.10/site-packages/tqdm/auto.py:21: TqdmWarning: IProgress not found. Please update jupyter and ipywidgets. See https://ipywidgets.readthedocs.io/en/stable/user_install.html\n",
      "  from .autonotebook import tqdm as notebook_tqdm\n",
      "2024-06-18 15:37:46,496 - modelscope - INFO - PyTorch version 2.1.0 Found.\n",
      "2024-06-18 15:37:46,497 - modelscope - INFO - Loading ast index from /Users/charslee/.cache/modelscope/ast_indexer\n",
      "2024-06-18 15:37:46,560 - modelscope - INFO - Loading done! Current index file version is 1.13.3, with md5 8e4efa69aee288a831cd8dd27b421a93 and a total number of 972 components indexed\n",
      "INFO:ChatTTS.core:Load from local: /Users/charslee/.cache/modelscope/hub/mirror013/ChatTTS\n",
      "INFO:ChatTTS.core:vocos loaded.\n",
      "INFO:ChatTTS.core:dvae loaded.\n",
      "INFO:ChatTTS.core:gpt loaded.\n",
      "INFO:ChatTTS.core:decoder loaded.\n",
      "INFO:ChatTTS.core:tokenizer loaded.\n",
      "INFO:ChatTTS.core:All initialized.\n"
     ]
    }
   ],
   "source": [
    "import ChatTTS\n",
    "\n",
    "# SEED = 1122\n",
    "\n",
    "#模型下载\n",
    "from modelscope import snapshot_download\n",
    "model_dir = snapshot_download('mirror013/ChatTTS')\n",
    "\n",
    "# 加载模型\n",
    "chat = ChatTTS.Chat()\n",
    "chat.load_models(\n",
    "    source=\"local\",\n",
    "    local_path=model_dir,\n",
    "    device='cpu',\n",
    "    compile=False,\n",
    ")"
   ]
  },
  {
   "cell_type": "code",
   "execution_count": 2,
   "metadata": {},
   "outputs": [
    {
     "name": "stdout",
     "output_type": "stream",
     "text": [
      "vocos\n",
      "dvae\n",
      "gpt\n",
      "spk_stat\n",
      "decoder\n",
      "tokenizer\n"
     ]
    }
   ],
   "source": [
    "for model_name in chat.pretrain_models.keys():\n",
    "    print(model_name)"
   ]
  },
  {
   "cell_type": "code",
   "execution_count": 14,
   "metadata": {},
   "outputs": [
    {
     "name": "stdout",
     "output_type": "stream",
     "text": [
      "ResidualFSQ(\n",
      "  (project_in): Linear(in_features=512, out_features=4, bias=True)\n",
      "  (project_out): Linear(in_features=4, out_features=512, bias=True)\n",
      "  (layers): ModuleList(\n",
      "    (0-1): 2 x FSQ(\n",
      "      (project_in): Identity()\n",
      "      (project_out): Identity()\n",
      "    )\n",
      "  )\n",
      ")\n",
      "[5, 5, 5, 5]\n"
     ]
    }
   ],
   "source": [
    "# print(chat.pretrain_models[\"dvae\"].vq_layer)\n",
    "# print(chat.pretrain_models[\"dvae\"].decoder)\n",
    "vq = chat.pretrain_models[\"dvae\"].vq_layer.quantizer.rvqs[0]\n",
    "print(vq)\n",
    "print(vq.levels)"
   ]
  }
 ],
 "metadata": {
  "kernelspec": {
   "display_name": "torch",
   "language": "python",
   "name": "python3"
  },
  "language_info": {
   "codemirror_mode": {
    "name": "ipython",
    "version": 3
   },
   "file_extension": ".py",
   "mimetype": "text/x-python",
   "name": "python",
   "nbconvert_exporter": "python",
   "pygments_lexer": "ipython3",
   "version": "3.10.13"
  }
 },
 "nbformat": 4,
 "nbformat_minor": 2
}
